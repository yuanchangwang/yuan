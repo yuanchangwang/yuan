{
 "cells": [
  {
   "cell_type": "markdown",
   "metadata": {},
   "source": [
    "### 今日作业:\n",
    "\n",
    "- 1.使用scrapy框架爬取521609.com里面的任意三个专栏里面的所有图片标题和图片链接,并分别存储到文件、mysql、redis中\n",
    "- 2.使用scrapy框架结合中间件切换代理IP实现爬取www.4567tv.tv 里面的动作片详情与播放地址,存储到文件中\n",
    "- 3.分析股票招商银行(600036),假如每个月的月初买一手股票，月底卖一手股票，从2013年1月到现在，我的收益如何"
   ]
  },
  {
   "cell_type": "code",
   "execution_count": null,
   "metadata": {},
   "outputs": [],
   "source": []
  }
 ],
 "metadata": {
  "kernelspec": {
   "display_name": "Python 3",
   "language": "python",
   "name": "python3"
  },
  "language_info": {
   "codemirror_mode": {
    "name": "ipython",
    "version": 3
   },
   "file_extension": ".py",
   "mimetype": "text/x-python",
   "name": "python",
   "nbconvert_exporter": "python",
   "pygments_lexer": "ipython3",
   "version": "3.6.5"
  }
 },
 "nbformat": 4,
 "nbformat_minor": 2
}
