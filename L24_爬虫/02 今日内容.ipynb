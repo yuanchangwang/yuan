{
 "cells": [
  {
   "cell_type": "markdown",
   "metadata": {},
   "source": [
    "### 一、scrapy学习\n",
    "- 1 scrapy初识\n",
    "    - 安装:\n",
    "        1. pip3 install wheel\n",
    "        2. 下载twisted http://www.lfd.uci.edu/~gohlke/pythonlibs/#twisted\n",
    "        3. 进入下载目录，执行 pip3 install Twisted-19.2.1-cp36-cp36m-win_amd64.whl\n",
    "        4. pip3 install pywin32\n",
    "        5. pip3 install scrapy\n",
    "        \n",
    "    - 使用:\n",
    "        1. 创建项目: scrapy startproject firstblood\n",
    "        2. 创建爬虫文件(注意必须要进入scrapy项目目录中)：scrapy genspider first www.xxx.com\n",
    "        3. 执行项目： scrapy crawl first\n",
    "    - 存储方式:\n",
    "        1. 基于终端指令的方式\n",
    "            - scrapy crawl first -o first.csv --nolog\n",
    "        2. 基于管道\n",
    "\n",
    "- 2 管道持久化存储\n",
    "    - 存储到文件中\n",
    "    - 存储到mysql\n",
    "    - 存储到redis\n",
    "\n",
    "- 3 五大核心组件\n",
    "- 4 手动发送请求\n",
    "    - 发送GET请求: scrapy.Request()\n",
    "    - 发送POST请求: scrapy.FormRequest()\n",
    "\n",
    "- 5 中间件拦截请求\n",
    "\n",
    "\n",
    "### 二、数据分析\n",
    "\n",
    "- 数据分析三剑客\n",
    "\n",
    "- 1.numpy模块\n",
    "- 2.pandas模块\n",
    "    - DataFrame\n",
    "    - Series\n",
    "- 3.金融知识介绍\n",
    "- 4.股票分析案例"
   ]
  },
  {
   "cell_type": "code",
   "execution_count": null,
   "metadata": {},
   "outputs": [],
   "source": []
  }
 ],
 "metadata": {
  "kernelspec": {
   "display_name": "Python 3",
   "language": "python",
   "name": "python3"
  },
  "language_info": {
   "codemirror_mode": {
    "name": "ipython",
    "version": 3
   },
   "file_extension": ".py",
   "mimetype": "text/x-python",
   "name": "python",
   "nbconvert_exporter": "python",
   "pygments_lexer": "ipython3",
   "version": "3.6.5"
  }
 },
 "nbformat": 4,
 "nbformat_minor": 2
}
